{
  "nbformat": 4,
  "nbformat_minor": 0,
  "metadata": {
    "colab": {
      "provenance": []
    },
    "kernelspec": {
      "name": "python3",
      "display_name": "Python 3"
    },
    "language_info": {
      "name": "python"
    }
  },
  "cells": [
    {
      "cell_type": "markdown",
      "source": [
        "**Impoert Libraries**"
      ],
      "metadata": {
        "id": "vrkNB5cpqux4"
      }
    },
    {
      "cell_type": "code",
      "execution_count": 1,
      "metadata": {
        "colab": {
          "base_uri": "https://localhost:8080/"
        },
        "id": "nCr00sPSmlM5",
        "outputId": "e6015c1b-7075-4f2c-d369-798333746b74"
      },
      "outputs": [
        {
          "output_type": "stream",
          "name": "stdout",
          "text": [
            "Mounted at /content/data_set\n"
          ]
        }
      ],
      "source": [
        "import pandas as pd\n",
        "import numpy as np\n",
        "from sklearn.preprocessing import LabelEncoder\n",
        "from sklearn.model_selection import train_test_split\n",
        "from sklearn.metrics import mean_absolute_error, mean_squared_error, r2_score\n",
        "from lightgbm import LGBMRegressor\n",
        "import pickle\n",
        "\n",
        "from google.colab import drive\n",
        "drive.mount('/content/data_set')"
      ]
    },
    {
      "cell_type": "markdown",
      "source": [
        "**Import Preprocessed Data**"
      ],
      "metadata": {
        "id": "Rj9iYgQ3H-Et"
      }
    },
    {
      "cell_type": "code",
      "source": [
        "data = pd.read_csv('/content/data_set/MyDrive/CRvP/autos_preprocessed_Data.csv')\n",
        "data.head()"
      ],
      "metadata": {
        "colab": {
          "base_uri": "https://localhost:8080/",
          "height": 305
        },
        "id": "Wn9rvKQInhsf",
        "outputId": "f8b99157-0060-4938-a939-a7c4a30530c1"
      },
      "execution_count": 2,
      "outputs": [
        {
          "output_type": "execute_result",
          "data": {
            "text/plain": [
              "   Unnamed: 0  price vehicleType  yearOfRegistration    gearbox  powerPS  \\\n",
              "0           1  18300       coupe                2011     manual      190   \n",
              "1           2   9800         suv                2004  automatic      163   \n",
              "2           3   1500   small car                2001     manual       75   \n",
              "3           4   3600   small car                2008     manual       69   \n",
              "4           5    650   limousine                1995     manual      102   \n",
              "\n",
              "          model  kilometer  monthOfRegistration fuelType       brand  \\\n",
              "0  not-declared     125000                    5   diesel        audi   \n",
              "1         grand     125000                    8   diesel        jeep   \n",
              "2          golf     150000                    6   petrol  volkswagen   \n",
              "3         fabia      90000                    7   diesel       skoda   \n",
              "4           3er     150000                   10   petrol         bmw   \n",
              "\n",
              "  notRepairedDamage  \n",
              "0               Yes  \n",
              "1      not-declared  \n",
              "2                No  \n",
              "3                No  \n",
              "4               Yes  "
            ],
            "text/html": [
              "\n",
              "  <div id=\"df-2981f223-9ef5-4abc-a461-29852d6d5b84\">\n",
              "    <div class=\"colab-df-container\">\n",
              "      <div>\n",
              "<style scoped>\n",
              "    .dataframe tbody tr th:only-of-type {\n",
              "        vertical-align: middle;\n",
              "    }\n",
              "\n",
              "    .dataframe tbody tr th {\n",
              "        vertical-align: top;\n",
              "    }\n",
              "\n",
              "    .dataframe thead th {\n",
              "        text-align: right;\n",
              "    }\n",
              "</style>\n",
              "<table border=\"1\" class=\"dataframe\">\n",
              "  <thead>\n",
              "    <tr style=\"text-align: right;\">\n",
              "      <th></th>\n",
              "      <th>Unnamed: 0</th>\n",
              "      <th>price</th>\n",
              "      <th>vehicleType</th>\n",
              "      <th>yearOfRegistration</th>\n",
              "      <th>gearbox</th>\n",
              "      <th>powerPS</th>\n",
              "      <th>model</th>\n",
              "      <th>kilometer</th>\n",
              "      <th>monthOfRegistration</th>\n",
              "      <th>fuelType</th>\n",
              "      <th>brand</th>\n",
              "      <th>notRepairedDamage</th>\n",
              "    </tr>\n",
              "  </thead>\n",
              "  <tbody>\n",
              "    <tr>\n",
              "      <th>0</th>\n",
              "      <td>1</td>\n",
              "      <td>18300</td>\n",
              "      <td>coupe</td>\n",
              "      <td>2011</td>\n",
              "      <td>manual</td>\n",
              "      <td>190</td>\n",
              "      <td>not-declared</td>\n",
              "      <td>125000</td>\n",
              "      <td>5</td>\n",
              "      <td>diesel</td>\n",
              "      <td>audi</td>\n",
              "      <td>Yes</td>\n",
              "    </tr>\n",
              "    <tr>\n",
              "      <th>1</th>\n",
              "      <td>2</td>\n",
              "      <td>9800</td>\n",
              "      <td>suv</td>\n",
              "      <td>2004</td>\n",
              "      <td>automatic</td>\n",
              "      <td>163</td>\n",
              "      <td>grand</td>\n",
              "      <td>125000</td>\n",
              "      <td>8</td>\n",
              "      <td>diesel</td>\n",
              "      <td>jeep</td>\n",
              "      <td>not-declared</td>\n",
              "    </tr>\n",
              "    <tr>\n",
              "      <th>2</th>\n",
              "      <td>3</td>\n",
              "      <td>1500</td>\n",
              "      <td>small car</td>\n",
              "      <td>2001</td>\n",
              "      <td>manual</td>\n",
              "      <td>75</td>\n",
              "      <td>golf</td>\n",
              "      <td>150000</td>\n",
              "      <td>6</td>\n",
              "      <td>petrol</td>\n",
              "      <td>volkswagen</td>\n",
              "      <td>No</td>\n",
              "    </tr>\n",
              "    <tr>\n",
              "      <th>3</th>\n",
              "      <td>4</td>\n",
              "      <td>3600</td>\n",
              "      <td>small car</td>\n",
              "      <td>2008</td>\n",
              "      <td>manual</td>\n",
              "      <td>69</td>\n",
              "      <td>fabia</td>\n",
              "      <td>90000</td>\n",
              "      <td>7</td>\n",
              "      <td>diesel</td>\n",
              "      <td>skoda</td>\n",
              "      <td>No</td>\n",
              "    </tr>\n",
              "    <tr>\n",
              "      <th>4</th>\n",
              "      <td>5</td>\n",
              "      <td>650</td>\n",
              "      <td>limousine</td>\n",
              "      <td>1995</td>\n",
              "      <td>manual</td>\n",
              "      <td>102</td>\n",
              "      <td>3er</td>\n",
              "      <td>150000</td>\n",
              "      <td>10</td>\n",
              "      <td>petrol</td>\n",
              "      <td>bmw</td>\n",
              "      <td>Yes</td>\n",
              "    </tr>\n",
              "  </tbody>\n",
              "</table>\n",
              "</div>\n",
              "      <button class=\"colab-df-convert\" onclick=\"convertToInteractive('df-2981f223-9ef5-4abc-a461-29852d6d5b84')\"\n",
              "              title=\"Convert this dataframe to an interactive table.\"\n",
              "              style=\"display:none;\">\n",
              "        \n",
              "  <svg xmlns=\"http://www.w3.org/2000/svg\" height=\"24px\"viewBox=\"0 0 24 24\"\n",
              "       width=\"24px\">\n",
              "    <path d=\"M0 0h24v24H0V0z\" fill=\"none\"/>\n",
              "    <path d=\"M18.56 5.44l.94 2.06.94-2.06 2.06-.94-2.06-.94-.94-2.06-.94 2.06-2.06.94zm-11 1L8.5 8.5l.94-2.06 2.06-.94-2.06-.94L8.5 2.5l-.94 2.06-2.06.94zm10 10l.94 2.06.94-2.06 2.06-.94-2.06-.94-.94-2.06-.94 2.06-2.06.94z\"/><path d=\"M17.41 7.96l-1.37-1.37c-.4-.4-.92-.59-1.43-.59-.52 0-1.04.2-1.43.59L10.3 9.45l-7.72 7.72c-.78.78-.78 2.05 0 2.83L4 21.41c.39.39.9.59 1.41.59.51 0 1.02-.2 1.41-.59l7.78-7.78 2.81-2.81c.8-.78.8-2.07 0-2.86zM5.41 20L4 18.59l7.72-7.72 1.47 1.35L5.41 20z\"/>\n",
              "  </svg>\n",
              "      </button>\n",
              "      \n",
              "  <style>\n",
              "    .colab-df-container {\n",
              "      display:flex;\n",
              "      flex-wrap:wrap;\n",
              "      gap: 12px;\n",
              "    }\n",
              "\n",
              "    .colab-df-convert {\n",
              "      background-color: #E8F0FE;\n",
              "      border: none;\n",
              "      border-radius: 50%;\n",
              "      cursor: pointer;\n",
              "      display: none;\n",
              "      fill: #1967D2;\n",
              "      height: 32px;\n",
              "      padding: 0 0 0 0;\n",
              "      width: 32px;\n",
              "    }\n",
              "\n",
              "    .colab-df-convert:hover {\n",
              "      background-color: #E2EBFA;\n",
              "      box-shadow: 0px 1px 2px rgba(60, 64, 67, 0.3), 0px 1px 3px 1px rgba(60, 64, 67, 0.15);\n",
              "      fill: #174EA6;\n",
              "    }\n",
              "\n",
              "    [theme=dark] .colab-df-convert {\n",
              "      background-color: #3B4455;\n",
              "      fill: #D2E3FC;\n",
              "    }\n",
              "\n",
              "    [theme=dark] .colab-df-convert:hover {\n",
              "      background-color: #434B5C;\n",
              "      box-shadow: 0px 1px 3px 1px rgba(0, 0, 0, 0.15);\n",
              "      filter: drop-shadow(0px 1px 2px rgba(0, 0, 0, 0.3));\n",
              "      fill: #FFFFFF;\n",
              "    }\n",
              "  </style>\n",
              "\n",
              "      <script>\n",
              "        const buttonEl =\n",
              "          document.querySelector('#df-2981f223-9ef5-4abc-a461-29852d6d5b84 button.colab-df-convert');\n",
              "        buttonEl.style.display =\n",
              "          google.colab.kernel.accessAllowed ? 'block' : 'none';\n",
              "\n",
              "        async function convertToInteractive(key) {\n",
              "          const element = document.querySelector('#df-2981f223-9ef5-4abc-a461-29852d6d5b84');\n",
              "          const dataTable =\n",
              "            await google.colab.kernel.invokeFunction('convertToInteractive',\n",
              "                                                     [key], {});\n",
              "          if (!dataTable) return;\n",
              "\n",
              "          const docLinkHtml = 'Like what you see? Visit the ' +\n",
              "            '<a target=\"_blank\" href=https://colab.research.google.com/notebooks/data_table.ipynb>data table notebook</a>'\n",
              "            + ' to learn more about interactive tables.';\n",
              "          element.innerHTML = '';\n",
              "          dataTable['output_type'] = 'display_data';\n",
              "          await google.colab.output.renderOutput(dataTable, element);\n",
              "          const docLink = document.createElement('div');\n",
              "          docLink.innerHTML = docLinkHtml;\n",
              "          element.appendChild(docLink);\n",
              "        }\n",
              "      </script>\n",
              "    </div>\n",
              "  </div>\n",
              "  "
            ]
          },
          "metadata": {},
          "execution_count": 2
        }
      ]
    },
    {
      "cell_type": "markdown",
      "source": [
        "**Label Encoding**"
      ],
      "metadata": {
        "id": "YI2n3f_YRNZU"
      }
    },
    {
      "cell_type": "code",
      "source": [
        "labels = ['gearbox', 'notRepairedDamage', 'model', 'brand', 'fuelType', 'vehicleType']\n",
        "\n",
        "mapper = {}\n",
        "for i in labels:\n",
        "    mapper[i] = LabelEncoder()\n",
        "    mapper[i].fit(data[i])\n",
        "    tr = mapper[i].transform(data[i])\n",
        "    np.save(str('classes'+i+'.npy'), mapper[i].classes_)\n",
        "    data.loc[:, i+'_labels'] = pd.Series(tr, index=data.index)\n",
        "    \n",
        "labeled = data[['price', 'yearOfRegistration','powerPS','kilometer','monthOfRegistration']\n",
        "                  +[x+\"_labels\" for x in labels]]\n",
        "\n",
        "print(labeled.columns)"
      ],
      "metadata": {
        "colab": {
          "base_uri": "https://localhost:8080/"
        },
        "id": "ZmP2SSc6qRMu",
        "outputId": "87dbca23-7ceb-4885-d70d-737dc4d193fb"
      },
      "execution_count": 3,
      "outputs": [
        {
          "output_type": "stream",
          "name": "stdout",
          "text": [
            "Index(['price', 'yearOfRegistration', 'powerPS', 'kilometer',\n",
            "       'monthOfRegistration', 'gearbox_labels', 'notRepairedDamage_labels',\n",
            "       'model_labels', 'brand_labels', 'fuelType_labels',\n",
            "       'vehicleType_labels'],\n",
            "      dtype='object')\n"
          ]
        }
      ]
    },
    {
      "cell_type": "markdown",
      "source": [
        "**Different Metrics Evaluation**"
      ],
      "metadata": {
        "id": "KMzrAvnfRaE1"
      }
    },
    {
      "cell_type": "code",
      "source": [
        "def find_scores(Y_actual, Y_pred, X_train):\n",
        "    scores = dict()\n",
        "    mae = mean_absolute_error(Y_actual, Y_pred)\n",
        "    mse = mean_squared_error(Y_actual, Y_pred)\n",
        "    rmse = np.sqrt(mse)\n",
        "    rmsle = np.log(rmse)\n",
        "    r2 = r2_score(Y_actual, Y_pred)\n",
        "    n, k = X_train.shape\n",
        "    adj_r2_score = 1 - ((1-r2)*(n-1)/(n-k-1))\n",
        "    \n",
        "    scores['mae']=mae\n",
        "    scores['mse']=mse\n",
        "    scores['rmse']=rmse\n",
        "    scores['rmsle']=rmsle\n",
        "    scores['r2']=r2\n",
        "    scores['adj_r2_score']=adj_r2_score\n",
        "    \n",
        "    return scores"
      ],
      "metadata": {
        "id": "VhjqWZAaqVoG"
      },
      "execution_count": 4,
      "outputs": []
    },
    {
      "cell_type": "code",
      "source": [
        "X = labeled.iloc[:,1:].values\n",
        "Y = labeled.iloc[:,0].values.reshape(-1,1)"
      ],
      "metadata": {
        "id": "L-0AbyO6qV6F"
      },
      "execution_count": 5,
      "outputs": []
    },
    {
      "cell_type": "code",
      "source": [
        "X_train, X_test, Y_train, Y_test = train_test_split(X, Y, test_size=0.4, random_state=42)"
      ],
      "metadata": {
        "id": "hjb6F4gvqV9m"
      },
      "execution_count": 6,
      "outputs": []
    },
    {
      "cell_type": "markdown",
      "source": [
        "**Predictive Modeling**"
      ],
      "metadata": {
        "id": "uo-RUlO_RjKC"
      }
    },
    {
      "cell_type": "markdown",
      "source": [
        "**LGBM Regressor**"
      ],
      "metadata": {
        "id": "1xNQ6x2vRjTF"
      }
    },
    {
      "cell_type": "code",
      "source": [
        "model = LGBMRegressor(boosting_type=\"gbdt\",learning_rate=0.07,metric=\"rmse\",n_estimators=300,objective=\"root_mean_squared_error\",random_state=42,reg_sqrt=True)\n",
        "\n",
        "model.fit(X_train, Y_train)\n",
        "\n",
        "Y_pred = model.predict(X_test)\n",
        "\n",
        "find_scores(Y_test, Y_pred, X_train)"
      ],
      "metadata": {
        "colab": {
          "base_uri": "https://localhost:8080/"
        },
        "id": "JKw3vl4tqgOh",
        "outputId": "425a3fdb-d1b3-4f64-8b2e-6b762bb16233"
      },
      "execution_count": 7,
      "outputs": [
        {
          "output_type": "stream",
          "name": "stderr",
          "text": [
            "/usr/local/lib/python3.7/dist-packages/sklearn/utils/validation.py:993: DataConversionWarning: A column-vector y was passed when a 1d array was expected. Please change the shape of y to (n_samples, ), for example using ravel().\n",
            "  y = column_or_1d(y, warn=True)\n"
          ]
        },
        {
          "output_type": "execute_result",
          "data": {
            "text/plain": [
              "{'mae': 1327.549477341283,\n",
              " 'mse': 9492244.283543464,\n",
              " 'rmse': 3080.948601249859,\n",
              " 'rmsle': 8.032992815968017,\n",
              " 'r2': 0.8668348937732229,\n",
              " 'adj_r2_score': 0.8668269262555739}"
            ]
          },
          "metadata": {},
          "execution_count": 7
        }
      ]
    },
    {
      "cell_type": "markdown",
      "source": [
        "Save Model"
      ],
      "metadata": {
        "id": "Mb5FydNzRwgW"
      }
    },
    {
      "cell_type": "code",
      "source": [
        "pickle.dump(model, open('resale_model.sav', 'wb'))"
      ],
      "metadata": {
        "id": "UHCsTqzvqgZl"
      },
      "execution_count": 8,
      "outputs": []
    }
  ]
}